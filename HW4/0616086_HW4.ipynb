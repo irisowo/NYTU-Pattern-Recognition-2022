{
  "cells": [
    {
      "cell_type": "code",
      "source": [
        "from google.colab import drive\n",
        "drive.mount('/content/drive')\n",
        "%cd /content/drive/MyDrive/四下/pattern_recognition/HW/HW4"
      ],
      "metadata": {
        "colab": {
          "base_uri": "https://localhost:8080/"
        },
        "id": "ZHby3D7H9qGk",
        "outputId": "c9be0c57-3aa6-4ec2-fffd-92b92c08951a"
      },
      "execution_count": 1,
      "outputs": [
        {
          "output_type": "stream",
          "name": "stdout",
          "text": [
            "Drive already mounted at /content/drive; to attempt to forcibly remount, call drive.mount(\"/content/drive\", force_remount=True).\n",
            "/content/drive/MyDrive/四下/pattern_recognition/HW/HW4\n"
          ]
        }
      ]
    },
    {
      "cell_type": "code",
      "source": [
        "!pip install pycodestyle\n",
        "!pip install --index-url https://test.pypi.org/simple/ nbpep8"
      ],
      "metadata": {
        "colab": {
          "base_uri": "https://localhost:8080/"
        },
        "id": "vVuP90c6rgsc",
        "outputId": "3ce74a52-b559-41b4-95cc-42063a41d3c9"
      },
      "execution_count": 2,
      "outputs": [
        {
          "output_type": "stream",
          "name": "stdout",
          "text": [
            "Requirement already satisfied: pycodestyle in /usr/local/lib/python3.7/dist-packages (2.8.0)\n",
            "Looking in indexes: https://test.pypi.org/simple/\n",
            "Requirement already satisfied: nbpep8 in /usr/local/lib/python3.7/dist-packages (0.0.15)\n"
          ]
        }
      ]
    },
    {
      "cell_type": "code",
      "execution_count": 3,
      "metadata": {
        "id": "MenT50uJ5Qas"
      },
      "outputs": [],
      "source": [
        "import numpy as np\n",
        "import pandas as pd\n",
        "from nbpep8.nbpep8 import pep8\n",
        "from sklearn.svm import SVC, SVR\n",
        "from sklearn.metrics import accuracy_score"
      ]
    },
    {
      "cell_type": "markdown",
      "metadata": {
        "id": "62jvRqvD5Qau"
      },
      "source": [
        "## Load data"
      ]
    },
    {
      "cell_type": "code",
      "execution_count": 4,
      "metadata": {
        "colab": {
          "base_uri": "https://localhost:8080/"
        },
        "id": "JugnmAVl5Qav",
        "outputId": "12471cb1-f7ae-4673-914c-5b2625294aeb"
      },
      "outputs": [
        {
          "output_type": "stream",
          "name": "stdout",
          "text": [
            "(550, 300)\n",
            "[0 1]\n",
            "\n"
          ]
        }
      ],
      "source": [
        "x_train = np.load(\"x_train.npy\")\n",
        "y_train = np.load(\"y_train.npy\")\n",
        "x_test = np.load(\"x_test.npy\")\n",
        "y_test = np.load(\"y_test.npy\")\n",
        "\n",
        "# 550 data with 300 features\n",
        "print(x_train.shape)\n",
        "\n",
        "# It's a binary classification problem\n",
        "print(np.unique(y_train))\n",
        "pep8(_ih)"
      ]
    },
    {
      "cell_type": "markdown",
      "metadata": {
        "id": "TWy66i3Z5Qax"
      },
      "source": [
        "## Question 1\n",
        "K-fold data partition: Implement the K-fold cross-validation function. Your function should take K as an argument and return a list of lists (len(list) should equal to K), which contains K elements. Each element is a list contains two parts, the first part contains the index of all training folds, e.g. Fold 2 to Fold 5 in split 1. The second part contains the index of validation fold, e.g. Fold 1 in  split 1"
      ]
    },
    {
      "cell_type": "code",
      "execution_count": 5,
      "metadata": {
        "id": "Lle5SXc-5Qay",
        "colab": {
          "base_uri": "https://localhost:8080/"
        },
        "outputId": "bd312b45-23bf-4d02-fdb0-1e85aee40ca1"
      },
      "outputs": [
        {
          "output_type": "stream",
          "name": "stdout",
          "text": [
            "\n"
          ]
        }
      ],
      "source": [
        "def cross_validation(x_train, y_train, k=5):\n",
        "    # Init\n",
        "    n_samples = len(y_train)\n",
        "    all_indices = np.arange(n_samples)\n",
        "\n",
        "    # Save the split\n",
        "    split = []\n",
        "    quotient = n_samples // k\n",
        "    remainder = n_samples % k\n",
        "    last_idx = 0\n",
        "    for i in range(k):\n",
        "        last_idx += quotient\n",
        "        last_idx += 1 if (remainder > 0 and i < remainder) else 0\n",
        "        split.append(last_idx)\n",
        "\n",
        "    # Shuffle and keep the fold\n",
        "    k_folds = []\n",
        "    np.random.seed(10)\n",
        "    np.random.shuffle(all_indices)\n",
        "    for i in range(k):\n",
        "        if i == 0:\n",
        "            test = all_indices[np.arange(split[i])]\n",
        "        else:\n",
        "            test = all_indices[np.arange(split[i - 1], split[i])]\n",
        "        val = np.delete(all_indices, test)\n",
        "        k_folds.append([val, test])\n",
        "    return k_folds\n",
        "\n",
        "\n",
        "pep8(_ih)"
      ]
    },
    {
      "cell_type": "code",
      "source": [
        "kfold_data = cross_validation(x_train, y_train, k=10)\n",
        "\n",
        "# should contain 10 fold of data\n",
        "assert len(kfold_data) == 10\n",
        "\n",
        "# each element should contain train fold and validation fold\n",
        "assert len(kfold_data[0]) == 2\n",
        "\n",
        "# The number of data in each validation fold\n",
        "assert kfold_data[0][1].shape[0] == 55\n",
        "assert kfold_data[0][0].shape[0] == 55 * (10 - 1)\n",
        "pep8(_ih)"
      ],
      "metadata": {
        "colab": {
          "base_uri": "https://localhost:8080/"
        },
        "id": "dHmr_gy8-P_X",
        "outputId": "fc50766e-4c66-4e0f-bc6b-756e391f3862"
      },
      "execution_count": 6,
      "outputs": [
        {
          "output_type": "stream",
          "name": "stdout",
          "text": [
            "\n"
          ]
        }
      ]
    },
    {
      "cell_type": "markdown",
      "metadata": {
        "id": "PgHLjead5Qa0"
      },
      "source": [
        "## Question 2\n",
        "Using sklearn.svm.SVC to train a classifier on the provided train set and conduct the grid search of “C” and “gamma” to find the best parameters by cross-validation."
      ]
    },
    {
      "cell_type": "markdown",
      "source": [
        "* In the [guide](https://www.csie.ntu.edu.tw/~cjlin/papers/guide/guide.pdf), it says that since doing a complete grid-search may still be time-consuming, it's recommended to use a coarse grid first. \n",
        "* After identifying a “better” region on the grid, a finer grid search on that region can be conducted."
      ],
      "metadata": {
        "id": "fP2NrdYPHEuo"
      }
    },
    {
      "cell_type": "code",
      "execution_count": 7,
      "metadata": {
        "id": "OHzeb1x15Qa1",
        "colab": {
          "base_uri": "https://localhost:8080/"
        },
        "outputId": "3d0b50e2-575d-4cc1-c05f-6082b5891a1d"
      },
      "outputs": [
        {
          "output_type": "stream",
          "name": "stdout",
          "text": [
            "\n"
          ]
        }
      ],
      "source": [
        "def grid_search(kfold_data, cs, gammas):\n",
        "    cov = np.zeros((len(cs), len(gammas)))\n",
        "    max_acc = 0.0\n",
        "    best = {'c': -1, 'g': -1}\n",
        "    for i, c in enumerate(cs):\n",
        "        for j, g in enumerate(gammas):\n",
        "            # Taking average on the validation accuracy\n",
        "            total_err = 0.0\n",
        "            for kf in kfold_data:\n",
        "                train_idx, val_idx = kf[0], kf[1]\n",
        "                clf = SVC(C=c, kernel='rbf', gamma=g)\n",
        "                clf.fit(x_train[train_idx], y_train[train_idx])\n",
        "                y_pred = clf.predict(x_train[val_idx])\n",
        "                total_err += sum(np.logical_xor(y_train[val_idx], y_pred))\n",
        "            avg_acc = 1.0 - (total_err / len(y_train))\n",
        "            if(avg_acc > max_acc):\n",
        "                max_acc = avg_acc\n",
        "                best = {'c': c, 'g': g}\n",
        "            # save in cov-matrix\n",
        "            cov[i, j] = avg_acc\n",
        "    print(f\"c : {best['c']}, gamma :{best['g']}, max_acc : {max_acc}\")\n",
        "    return cov, best\n",
        "\n",
        "\n",
        "pep8(_ih)"
      ]
    },
    {
      "cell_type": "code",
      "source": [
        "# Use 5-fold validation\n",
        "kfold_data = cross_validation(x_train, y_train, k=5)\n",
        "\n",
        "# Coarse search\n",
        "c1 = [1e-3, 1e-2, 1e-1, 1, 10, 1e2, 1e3]\n",
        "gamma1 = [1e-3, 1e-2, 1e-1, 1, 10, 1e2, 1e3]\n",
        "cov1, best1 = grid_search(kfold_data, c1, gamma1)\n",
        "\n",
        "# Finer search\n",
        "c2 = np.arange(1, 10, 1)\n",
        "gamma2 = np.round(np.arange(0.001, 0.01, 0.001), 3)\n",
        "cov2, best2 = grid_search(kfold_data, c2, gamma2)\n",
        "pep8(_ih)"
      ],
      "metadata": {
        "colab": {
          "base_uri": "https://localhost:8080/"
        },
        "id": "bk3EewfNIMDt",
        "outputId": "01c145d8-b210-4261-bacf-431a2f830b74"
      },
      "execution_count": 8,
      "outputs": [
        {
          "output_type": "stream",
          "name": "stdout",
          "text": [
            "c : 10, gamma :0.001, max_acc : 0.98\n",
            "c : 3, gamma :0.002, max_acc : 0.9818181818181818\n",
            "\n"
          ]
        }
      ]
    },
    {
      "cell_type": "markdown",
      "metadata": {
        "id": "9CIFinef5Qa1"
      },
      "source": [
        "## Question 3\n",
        "Plot the grid search results of your SVM. The x, y represents the hyperparameters of “gamma” and “C”, respectively. And the color represents the average score of validation folds\n",
        "You reults should be look like this reference image below ![image](https://miro.medium.com/max/1296/1*wGWTup9r4cVytB5MOnsjdQ.png) "
      ]
    },
    {
      "cell_type": "code",
      "source": [
        "import seaborn as sns\n",
        "import matplotlib.pyplot as plt\n",
        "\n",
        "\n",
        "def heatmap_sns(c, gamma, cov):\n",
        "\n",
        "    plt.figure(figsize=(8, 6))\n",
        "    ax = sns.heatmap(\n",
        "        cov,\n",
        "        vmin=np.min(cov), vmax=1.0, annot=True,\n",
        "        xticklabels=gamma,\n",
        "        yticklabels=c,\n",
        "        cmap=sns.diverging_palette(220, 20, n=7),\n",
        "        square=True\n",
        "    )\n",
        "    ax.set_title('Hyperparameter Gridsearch', fontdict={'fontsize': 12}, pad=9)\n",
        "    ax.set_xlabel(\"Gamma Parameter\")\n",
        "    ax.set_ylabel(\"C Parameter\")\n",
        "\n",
        "\n",
        "pep8(_ih)"
      ],
      "metadata": {
        "colab": {
          "base_uri": "https://localhost:8080/"
        },
        "id": "TyudBh12ZqVq",
        "outputId": "c95c7042-af7d-4298-f762-fa650a667e0a"
      },
      "execution_count": 9,
      "outputs": [
        {
          "output_type": "stream",
          "name": "stdout",
          "text": [
            "\n"
          ]
        }
      ]
    },
    {
      "cell_type": "code",
      "source": [
        "# Coarse grid search\n",
        "heatmap_sns(c1, gamma1, cov1)\n",
        "pep8(_ih)"
      ],
      "metadata": {
        "colab": {
          "base_uri": "https://localhost:8080/",
          "height": 425
        },
        "id": "AT38L85Jn46d",
        "outputId": "3eca7cb5-c033-4077-ae82-ed22bdc3fd0d"
      },
      "execution_count": 10,
      "outputs": [
        {
          "output_type": "stream",
          "name": "stdout",
          "text": [
            "\n"
          ]
        },
        {
          "output_type": "display_data",
          "data": {
            "text/plain": [
              "<Figure size 576x432 with 2 Axes>"
            ],
            "image/png": "[encoded data removed]"
          },
          "metadata": {
            "needs_background": "light"
          }
        }
      ]
    },
    {
      "cell_type": "code",
      "source": [
        "# Fine grid search\n",
        "heatmap_sns(c2, gamma2, cov2)\n",
        "pep8(_ih)"
      ],
      "metadata": {
        "colab": {
          "base_uri": "https://localhost:8080/",
          "height": 425
        },
        "id": "Kmb6Gw0jn3g2",
        "outputId": "cb36fdc5-49ec-44a1-9377-5e064d9989d0"
      },
      "execution_count": 11,
      "outputs": [
        {
          "output_type": "stream",
          "name": "stdout",
          "text": [
            "\n"
          ]
        },
        {
          "output_type": "display_data",
          "data": {
            "text/plain": [
              "<Figure size 576x432 with 2 Axes>"
            ],
            "image/png": "[encoded data removed]"
          },
          "metadata": {
            "needs_background": "light"
          }
        }
      ]
    },
    {
      "cell_type": "markdown",
      "metadata": {
        "id": "YWxQsVe25Qa2"
      },
      "source": [
        "## Question 4\n",
        "Train your SVM model by the best parameters you found from question 2 on the whole training set and evaluate the performance on the test set."
      ]
    },
    {
      "cell_type": "code",
      "source": [
        "print(f\"c={best2['c']}, gamma={best2['g']}\")"
      ],
      "metadata": {
        "colab": {
          "base_uri": "https://localhost:8080/"
        },
        "id": "BfRMK9u1gwcr",
        "outputId": "ae43c44c-6170-436c-c89c-005835431686"
      },
      "execution_count": 12,
      "outputs": [
        {
          "output_type": "stream",
          "name": "stdout",
          "text": [
            "c=3, gamma=0.002\n"
          ]
        }
      ]
    },
    {
      "cell_type": "code",
      "source": [
        "# Train the model by {C: 3, gamma: 0.002} on the whole training data\n",
        "best_model = SVC(C=best2['c'], kernel='rbf', gamma=best2['g'])\n",
        "best_model.fit(x_train, y_train)\n",
        "\n",
        "# Testing accuracy\n",
        "y_pred = best_model.predict(x_test)\n",
        "print(\"Accuracy score: \", accuracy_score(y_pred, y_test))\n",
        "pep8(_ih)"
      ],
      "metadata": {
        "colab": {
          "base_uri": "https://localhost:8080/"
        },
        "outputId": "1130b003-8ae0-4898-fff8-ed0f1aac029e",
        "id": "YyEa4KnSI-b0"
      },
      "execution_count": 13,
      "outputs": [
        {
          "output_type": "stream",
          "name": "stdout",
          "text": [
            "Accuracy score:  0.9166666666666666\n",
            "\n"
          ]
        }
      ]
    }
  ],
  "metadata": {
    "kernelspec": {
      "display_name": "Python 3 (ipykernel)",
      "language": "python",
      "name": "python3"
    },
    "language_info": {
      "codemirror_mode": {
        "name": "ipython",
        "version": 3
      },
      "file_extension": ".py",
      "mimetype": "text/x-python",
      "name": "python",
      "nbconvert_exporter": "python",
      "pygments_lexer": "ipython3",
      "version": "3.10.4"
    },
    "colab": {
      "name": "HW4.ipynb",
      "provenance": [],
      "collapsed_sections": []
    }
  },
  "nbformat": 4,
  "nbformat_minor": 0
}